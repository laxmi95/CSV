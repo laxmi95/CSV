{
  "nbformat": 4,
  "nbformat_minor": 0,
  "metadata": {
    "colab": {
      "private_outputs": true,
      "provenance": [],
      "collapsed_sections": [
        "gCFgpxoyphqP",
        "OVtJsKN_phqQ",
        "lssrdh5qphqQ",
        "U2RJ9gkRphqQ",
        "1M8mcRywphqQ",
        "tgIPom80phqQ",
        "JMzcOPDDphqR",
        "x-EpHcCOp1ci",
        "X_VqEhTip1ck",
        "8zGJKyg5p1ck",
        "PVzmfK_Ep1ck",
        "ylSl6qgtp1ck",
        "ZWILFDl5p1ck",
        "M7G43BXep1ck",
        "Ag9LCva-p1cl",
        "E6MkPsBcp1cl",
        "2cELzS2fp1cl",
        "3MPXvC8up1cl",
        "NC_X3p0fY2L0",
        "UV0SzAkaZNRQ",
        "YPEH6qLeZNRQ",
        "q29F0dvdveiT",
        "EXh0U9oCveiU",
        "22aHeOlLveiV",
        "JcMwzZxoAimU",
        "8G2x9gOozGDZ",
        "gCX9965dhzqZ",
        "gIfDvo9L0UH2"
      ],
      "include_colab_link": true
    },
    "kernelspec": {
      "name": "python3",
      "display_name": "Python 3"
    },
    "language_info": {
      "name": "python"
    }
  },
  "cells": [
    {
      "cell_type": "markdown",
      "metadata": {
        "id": "view-in-github",
        "colab_type": "text"
      },
      "source": [
        "<a href=\"https://colab.research.google.com/github/laxmi95/CSV/blob/main/Copy_of_Sample_EDA_Telecom_Churn_Analysis_2nd_projects.ipynb\" target=\"_parent\"><img src=\"https://colab.research.google.com/assets/colab-badge.svg\" alt=\"Open In Colab\"/></a>"
      ]
    },
    {
      "cell_type": "markdown",
      "source": [
        "# **Project Name**    - **Telecom** **Churn** **Analysis**\n",
        "\n",
        "\n"
      ],
      "metadata": {
        "id": "vncDsAP0Gaoa"
      }
    },
    {
      "cell_type": "markdown",
      "source": [
        "##### **Project Type**    - **EDA**\n",
        "##### **Contribution**    - **Individual**\n",
        "**Memeber** - **Laxmi** **R** **Chawan**"
      ],
      "metadata": {
        "id": "beRrZCGUAJYm"
      }
    },
    {
      "cell_type": "markdown",
      "source": [
        "# **GitHub Link -**"
      ],
      "metadata": {
        "id": "w6K7xa23Elo4"
      }
    },
    {
      "cell_type": "markdown",
      "source": [
        "https://github.com/laxmi95/CSV"
      ],
      "metadata": {
        "id": "h1o69JH3Eqqn"
      }
    },
    {
      "cell_type": "markdown",
      "source": [
        "# **Problem Statement**\n"
      ],
      "metadata": {
        "id": "yQaldy8SH6Dl"
      }
    },
    {
      "cell_type": "markdown",
      "source": [
        "\n",
        "Customer churn prediction is extremely important for any business as it recognizes the clients who are likely to stop using their services.\n",
        "\n",
        "In the telecom industry, customers are able to choose from multiple service providers and actively switch from one operator to another.\n",
        "\n",
        "Orange S.A., formerly France Télécom S.A., is a French multinational telecommunications corporation. The Orange Telecom's Churn Dataset, consists of cleaned customer activity data (features),along with a churn label specifying whether a customer cancelled the subscription.\n",
        "\n",
        "Explore and analyze the data to discover key factors responsible for customer churn and come up with ways/recommendations to ensure customer retention.\n",
        "\n",
        "\n",
        "\n"
      ],
      "metadata": {
        "id": "DpeJGUA3kjGy"
      }
    },
    {
      "cell_type": "markdown",
      "source": [
        "#### **Define Your Business Objective?**"
      ],
      "metadata": {
        "id": "PH-0ReGfmX4f"
      }
    },
    {
      "cell_type": "markdown",
      "source": [
        "*   Identifying the key cause of the customer Churn\n",
        "* Provide step to retain the valuable customer\n",
        "  \n"
      ],
      "metadata": {
        "id": "PhDvGCAqmjP1"
      }
    },
    {
      "cell_type": "markdown",
      "source": [
        "# **General Guidelines** : -  "
      ],
      "metadata": {
        "id": "mDgbUHAGgjLW"
      }
    },
    {
      "cell_type": "markdown",
      "source": [
        "1.   Well-structured, formatted, and commented code is required.\n",
        "2.   Exception Handling, Production Grade Code & Deployment Ready Code will be a plus. Those students will be awarded some additional credits.\n",
        "     \n",
        "     The additional credits will have advantages over other students during Star Student selection.\n",
        "       \n",
        "             [ Note: - Deployment Ready Code is defined as, the whole .ipynb notebook should be executable in one go\n",
        "                       without a single error logged. ]\n",
        "\n",
        "3.   Each and every logic should have proper comments.\n",
        "4. You may add as many number of charts you want. Make Sure for each and every chart the following format should be answered.\n",
        "        \n",
        "\n",
        "```\n",
        "# Chart visualization code\n",
        "```\n",
        "            \n",
        "\n",
        "*   Why did you pick the specific chart?\n",
        "*   What is/are the insight(s) found from the chart?\n",
        "* Will the gained insights help creating a positive business impact?\n",
        "Are there any insights that lead to negative growth? Justify with specific reason.\n",
        "\n",
        "5. You have to create at least 20 logical & meaningful charts having important insights.\n",
        "\n",
        "\n",
        "[ Hints : - Do the Vizualization in  a structured way while following \"UBM\" Rule.\n",
        "\n",
        "U - Univariate Analysis,\n",
        "\n",
        "B - Bivariate Analysis (Numerical - Categorical, Numerical - Numerical, Categorical - Categorical)\n",
        "\n",
        "M - Multivariate Analysis\n",
        " ]\n",
        "\n",
        "\n",
        "\n"
      ],
      "metadata": {
        "id": "ZrxVaUj-hHfC"
      }
    },
    {
      "cell_type": "markdown",
      "source": [
        "# ***Let's Begin !***"
      ],
      "metadata": {
        "id": "O_i_v8NEhb9l"
      }
    },
    {
      "cell_type": "markdown",
      "source": [
        "## ***1. Know Your Data***"
      ],
      "metadata": {
        "id": "HhfV-JJviCcP"
      }
    },
    {
      "cell_type": "markdown",
      "source": [
        "### Import Libraries"
      ],
      "metadata": {
        "id": "Y3lxredqlCYt"
      }
    },
    {
      "cell_type": "code",
      "source": [
        "# Import Libraries\n",
        "import numpy as np # linear algebra\n",
        "import pandas as pd # data processing, CSV file I/O (e.g. pd.read_csv)\n",
        "import seaborn as sns # For creating plots\n",
        "import matplotlib.ticker as mtick # For specifying the axes tick format\n",
        "import matplotlib.pyplot as plt\n"
      ],
      "metadata": {
        "id": "M8Vqi-pPk-HR"
      },
      "execution_count": null,
      "outputs": []
    },
    {
      "cell_type": "markdown",
      "source": [
        "### Dataset Loading"
      ],
      "metadata": {
        "id": "3RnN4peoiCZX"
      }
    },
    {
      "cell_type": "code",
      "source": [
        "# Load Dataset\n",
        "from google.colab import drive\n",
        "drive.mount('/content/drive/')\n"
      ],
      "metadata": {
        "id": "4CkvbW_SlZ_R"
      },
      "execution_count": null,
      "outputs": []
    },
    {
      "cell_type": "code",
      "source": [
        "telecom_df = '/content/drive/MyDrive/Files/Telecom Churn.csv'\n",
        "df = pd.read_csv(telecom_df)"
      ],
      "metadata": {
        "id": "4OB21LmPfU68"
      },
      "execution_count": null,
      "outputs": []
    },
    {
      "cell_type": "code",
      "source": [
        "telecom_df = pd.read_csv('/content/drive/MyDrive/Files/Telecom Churn.csv')"
      ],
      "metadata": {
        "id": "YZImJ1GIgwgF"
      },
      "execution_count": null,
      "outputs": []
    },
    {
      "cell_type": "code",
      "source": [
        "df_churn = pd.read_csv('/content/drive/MyDrive/Files/Telecom Churn.csv')"
      ],
      "metadata": {
        "id": "IPYJnJ4BCWfy"
      },
      "execution_count": null,
      "outputs": []
    },
    {
      "cell_type": "markdown",
      "source": [
        "### Dataset First View"
      ],
      "metadata": {
        "id": "x71ZqKXriCWQ"
      }
    },
    {
      "cell_type": "code",
      "source": [
        "# Dataset First Look\n",
        "telecom_df.head()"
      ],
      "metadata": {
        "id": "LWNFOSvLl09H"
      },
      "execution_count": null,
      "outputs": []
    },
    {
      "cell_type": "markdown",
      "source": [
        "### Dataset Rows & Columns count"
      ],
      "metadata": {
        "id": "7hBIi_osiCS2"
      }
    },
    {
      "cell_type": "code",
      "source": [
        "# Dataset Rows & Columns count\n",
        "rows,cols = telecom_df.shape\n",
        "print(f'there are{rows} rows and {cols} columns in the dataset.')"
      ],
      "metadata": {
        "id": "Kllu7SJgmLij"
      },
      "execution_count": null,
      "outputs": []
    },
    {
      "cell_type": "markdown",
      "source": [
        "### Dataset Information"
      ],
      "metadata": {
        "id": "JlHwYmJAmNHm"
      }
    },
    {
      "cell_type": "code",
      "source": [
        "# Dataset Info\n",
        "telecom_df.info()"
      ],
      "metadata": {
        "id": "e9hRXRi6meOf"
      },
      "execution_count": null,
      "outputs": []
    },
    {
      "cell_type": "markdown",
      "source": [
        "#### Duplicate Values"
      ],
      "metadata": {
        "id": "35m5QtbWiB9F"
      }
    },
    {
      "cell_type": "code",
      "source": [
        "# Dataset Duplicate Value Count\n",
        "duplicate_rows = telecom_df.duplicated().sum()\n",
        "print(f'there are{duplicate_rows} duplicate_rows in the dataset')"
      ],
      "metadata": {
        "id": "1sLdpKYkmox0"
      },
      "execution_count": null,
      "outputs": []
    },
    {
      "cell_type": "markdown",
      "source": [
        "#### Missing Values/Null Values"
      ],
      "metadata": {
        "id": "PoPl-ycgm1ru"
      }
    },
    {
      "cell_type": "code",
      "source": [
        "# Missing Values/Null Values Count\n",
        "telecom_df.isnull().sum()\n"
      ],
      "metadata": {
        "id": "GgHWkxvamxVg"
      },
      "execution_count": null,
      "outputs": []
    },
    {
      "cell_type": "code",
      "source": [
        "# Visualizing the missing values\n",
        "sns.heatmap(telecom_df.isnull())"
      ],
      "metadata": {
        "id": "3q5wnI3om9sJ"
      },
      "execution_count": null,
      "outputs": []
    },
    {
      "cell_type": "markdown",
      "source": [
        "### What did you know about your dataset?"
      ],
      "metadata": {
        "id": "H0kj-8xxnORC"
      }
    },
    {
      "cell_type": "markdown",
      "source": [
        "The dataset given is a dataset from Telecommunication industry, and we have to analysis the churn of customers and the insights behind it.\n",
        "\n",
        "Churn prediction is analytical studies on the possibility of a customer abandoning a product or service. The goal is to understand and take steps to change it before the costumer gives up the product or service.\n",
        "\n",
        "The above dataset has 3333 rows and 20 columns. There are no mising values and duplicate values in the dataset."
      ],
      "metadata": {
        "id": "gfoNAAC-nUe_"
      }
    },
    {
      "cell_type": "markdown",
      "source": [
        "## ***2. Understanding Your Variables***"
      ],
      "metadata": {
        "id": "nA9Y7ga8ng1Z"
      }
    },
    {
      "cell_type": "code",
      "source": [
        "# Dataset Columns\n",
        "telecom_df.columns"
      ],
      "metadata": {
        "id": "j7xfkqrt5Ag5"
      },
      "execution_count": null,
      "outputs": []
    },
    {
      "cell_type": "code",
      "source": [
        "# Dataset Describe\n",
        "telecom_df.describe()"
      ],
      "metadata": {
        "id": "DnOaZdaE5Q5t"
      },
      "execution_count": null,
      "outputs": []
    },
    {
      "cell_type": "markdown",
      "source": [
        "### Variables Description"
      ],
      "metadata": {
        "id": "PBTbrJXOngz2"
      }
    },
    {
      "cell_type": "markdown",
      "source": [
        "\n",
        "\n",
        "* **State** :categorica for the 51 state\n",
        "\n",
        "\n",
        "\n",
        "**Account** Length :how long account has been active\n",
        "\n",
        "\n",
        "\n",
        "\n",
        "\n",
        "\n",
        "\n",
        "**Area** **Code** :Code Number of Area having some States included in each area code\n",
        "\n",
        "**lntl** **Plan** :International plan activated ( yes, no )\n",
        "\n",
        "**VMail** **Plan** : ice Mail plan activated ( yes ,no )\n",
        "\n",
        "**VMail** **Message** :No.of voice mail messages\n",
        "\n",
        "**Day** **Mins** :Total day minutes used\n",
        "\n",
        "**Day** **calls** :Total day calls made\n",
        "\n",
        "**Day** **Charge** :Total day charge\n",
        "\n",
        "**Eve** **Mins** :Total evening minutes\n",
        "\n",
        "**Eve** **Calls** :Total evening calls\n",
        "\n",
        "**Eve** **Charge** :Total evening charge\n",
        "\n",
        "**Night** **Mins** :Total night minutes\n",
        "\n",
        "**Night** **Calls** :Total night calls\n",
        "\n",
        "**Night** **Charge** :Total night charge\n",
        "\n",
        "**Intl** **Mins** :Total International minutes used\n",
        "\n",
        "**Intl** **Calls** :Total International calls made\n",
        "\n",
        "**Intl** **Charge** :Total International charge\n",
        "\n",
        "**CustServ** **calls** :Number of customer service caUs made\n",
        "\n",
        "**Churn** :Customer churn (Target Variable True=1, False=0)\n",
        "\n",
        "\n",
        "\n",
        "\n",
        "\n",
        "\n",
        "\n"
      ],
      "metadata": {
        "id": "aJV4KIxSnxay"
      }
    },
    {
      "cell_type": "markdown",
      "source": [
        "### Check Unique Values for each variable."
      ],
      "metadata": {
        "id": "u3PMJOP6ngxN"
      }
    },
    {
      "cell_type": "code",
      "source": [
        "# Check Unique Values for each variable.\n",
        "for i in telecom_df.columns:\n",
        "  print(\"no. of unique values in\",i,\"is\",telecom_df[i].nunique())"
      ],
      "metadata": {
        "id": "zms12Yq5n-jE"
      },
      "execution_count": null,
      "outputs": []
    },
    {
      "cell_type": "markdown",
      "source": [
        "### Data Wrangling Code"
      ],
      "metadata": {
        "id": "bKJF3rekwFvQ"
      }
    },
    {
      "cell_type": "code",
      "source": [
        "# Write your code to make your dataset analysis ready.\n",
        "print(\"No of  customer Churning :\",telecom_df[telecom_df[\"Churn\"]==True].Churn.count) #total no of Customer Churning\n",
        "\n",
        "#vairable assigning to churned data\n",
        "Churn_df = telecom_df[telecom_df[\"Churn\"]==True]\n",
        "\n",
        "# total no of unique Area code\n",
        "print(\"No of unique Area code :\",telecom_df['Area code'].nunique())\n",
        "\n",
        "# customer on which Internation plan is activated\n",
        "print(\"No of customer with international plan activated :\",telecom_df[telecom_df['International plan']=='Yes']['International plan'].count())\n",
        "\n",
        "# customer on which Voice mail plan is activated\n",
        "print(\"No of customer with Voice mail plan activated :\",telecom_df[telecom_df['Voice mail plan']=='Yes']['Voice mail plan'].count())\n",
        "\n",
        "Churn_df\n",
        "\n"
      ],
      "metadata": {
        "id": "ODYPPliGlles"
      },
      "execution_count": null,
      "outputs": []
    },
    {
      "cell_type": "code",
      "source": [
        "# % total customer churning\n",
        "print('Total no of customer :',telecom_df.Churn.count())\n",
        "perc_Churn =(Churn_df.Churn.count()/telecom_df.Churn.count())*100\n",
        "print(f\"percentage of customer churning :{round(perc_Churn,2)}%\")"
      ],
      "metadata": {
        "id": "l4wq3qUOk0nJ"
      },
      "execution_count": null,
      "outputs": []
    },
    {
      "cell_type": "code",
      "source": [
        "#statewise customer Churning\n",
        "State_cust_Churn = Churn_df.groupby(['State'])['Churn'].value_counts().reset_index(name='Churn_customer')\n",
        "print(State_cust_Churn.sum())\n",
        "State_cust_Churn"
      ],
      "metadata": {
        "id": "FETXmVjS5rDc"
      },
      "execution_count": null,
      "outputs": []
    },
    {
      "cell_type": "code",
      "source": [
        "#Account lenght wise churn data\n",
        "acc_cust_churn = Churn_df.groupby(['Account length'])['Churn'].value_counts().reset_index(name='values')\n",
        "print(acc_cust_churn .sum())\n",
        "acc_cust_churn"
      ],
      "metadata": {
        "id": "oxARMBP0mVOM"
      },
      "execution_count": null,
      "outputs": []
    },
    {
      "cell_type": "code",
      "source": [
        "#Area code wise churn percentage\n",
        "area_code_churn_perc = (telecom_df.groupby(['Area code'])['Churn'].mean()*100).reset_index()\n",
        "area_code_churn_perc"
      ],
      "metadata": {
        "id": "kIgu1OR_oOyr"
      },
      "execution_count": null,
      "outputs": []
    },
    {
      "cell_type": "code",
      "source": [
        "#Area code wise churn counts\n",
        "area_code_churn_count = Churn_df.groupby(['Area code'])['Churn'].value_counts().reset_index(name='counts')\n",
        "area_code_churn_count"
      ],
      "metadata": {
        "id": "N1s9Klp3p4c4"
      },
      "execution_count": null,
      "outputs": []
    },
    {
      "cell_type": "code",
      "source": [
        "#poor connectivity by intersection  of state by area code\n",
        "area_state_churn = Churn_df.groupby(['Area code'])['State'].unique().reset_index(name='Unique state')\n",
        "area_state_churn"
      ],
      "metadata": {
        "id": "66pg2yY1qs5h"
      },
      "execution_count": null,
      "outputs": []
    },
    {
      "cell_type": "code",
      "source": [
        "#Assigining the list of state of each area\n",
        "area_408_state_churn = area_state_churn.loc[0,'Unique state']\n",
        "area_415_state_churn = area_state_churn.loc[1,'Unique state']\n",
        "area_510_state_churn = area_state_churn.loc[2,'Unique state']\n",
        "\n",
        "inter_1 = set(area_408_state_churn).intersection(set(area_415_state_churn))\n",
        "poor_connectivity_state = set(inter_1).intersection(set(area_510_state_churn))\n",
        "\n",
        "print(f\"intersection by different area code of churning gives {len(poor_connectivity_state)} poor connectivity state\")\n",
        "print(f\"try to short down the  list of state by different dataset to generate more precise poor connectivity state \")"
      ],
      "metadata": {
        "id": "8yiDmO1uSj3y"
      },
      "execution_count": null,
      "outputs": []
    },
    {
      "cell_type": "code",
      "source": [
        "#percentage of customer with and without international plan churning to other networks\n",
        "intl_plan_churn = (telecom_df.groupby(['International plan'])['Churn'].mean()*100).reset_index(name='Churn %')\n",
        "print(intl_plan_churn)\n",
        "\n",
        "#total number of customer churning with international plan\n",
        "churn_intl_yes = Churn_df[Churn_df['International plan']=='Yes']\n",
        "print(f\"No of customer of churning having International plan is{churn_intl_yes['International plan'].value_counts()[0]}\")\n",
        "\n",
        "#total number of customer churning without international plan\n",
        "churn_intl_no = Churn_df[Churn_df['International plan']=='No']\n",
        "print(f\"No of customer of churning without having International plan is{churn_intl_no['International plan'].value_counts()[0]}\")"
      ],
      "metadata": {
        "id": "OC9_1XcTJo_8"
      },
      "execution_count": null,
      "outputs": []
    },
    {
      "cell_type": "code",
      "source": [
        "#percentage of people with and without voice mail plan churning to other networks\n",
        "vmail_plan_churn = (telecom_df.groupby(['Voice mail plan'])['Churn'].mean()*100).reset_index(name='Churn %')\n",
        "print(vmail_plan_churn)\n",
        "\n",
        "#total number of people churning with voice mail plan\n",
        "vmail_plan_yes = Churn_df[Churn_df['Voice mail plan']=='Yes']\n",
        "print(f\"No of people of churning having Voice mail plan is{vmail_plan_yes['Voice mail plan'].value_counts()[0]}\")\n",
        "\n",
        "#total number of people churning without voice mail plan\n",
        "vmail_plan_no = Churn_df[Churn_df['Voice mail plan']=='No']\n",
        "print(f\"No of people of churning without having Voice mail plan is{vmail_plan_no['Voice mail plan'].value_counts()[0]}\")\n",
        "\n"
      ],
      "metadata": {
        "id": "rUVMjO-COo5K"
      },
      "execution_count": null,
      "outputs": []
    },
    {
      "cell_type": "code",
      "source": [
        "#combining data intl plan and vmail plan\n",
        "\n",
        "#customers churning having intl plan and vmail plan\n",
        "intl_vmail_yes = Churn_df[(Churn_df['International plan']=='Yes') & (Churn_df['Voice mail plan']=='Yes')]\n",
        "print(f\"No of customers of churning having intl plan & Vmail plan are {intl_vmail_yes['Churn'].value_counts()[0]}\")\n",
        "\n",
        "\n",
        "#customer churning having no intl plan and vmail plan\n",
        "intl_vmail_no = Churn_df[(Churn_df['International plan']=='No') & (Churn_df['Voice mail plan']=='No')]\n",
        "print(f\"No of customers of churning having no  intl plan & no Vmail plan are {intl_vmail_no['Churn'].value_counts()[0]}\")\n",
        "\n",
        "\n",
        "#customer churning having intl plan but no vmail plan\n",
        "intl_yes_vmail_no = Churn_df[(Churn_df['International plan']=='Yes') & (Churn_df['Voice mail plan']=='No')]\n",
        "print(f\"No of customers of churning having intl plan but no Vmail plan are {intl_yes_vmail_no['Churn'].value_counts()[0]}\")\n",
        "\n",
        "\n",
        "#customer churning having no intl plan but vmail plan\n",
        "intl_no_vmail_yes = Churn_df[(Churn_df['International plan']=='No') & (Churn_df['Voice mail plan']=='Yes')]\n",
        "print(f\"No of customers of churning having  no intl plan but Vmail plan are {intl_no_vmail_yes['Churn'].value_counts()[0]}\")\n"
      ],
      "metadata": {
        "id": "qXBJesbkRKIi"
      },
      "execution_count": null,
      "outputs": []
    },
    {
      "cell_type": "code",
      "source": [
        "# poor connectivity states\n",
        "# States sorted with respect to international and voice mail plan\n",
        "state_intl_vmail_yes = intl_vmail_yes['State'].unique()\n",
        "state_intl_vmail_no = intl_vmail_no['State'].unique()\n",
        "state_intl_yes_vmail_no = intl_yes_vmail_no['State'].unique()\n",
        "state_intl_no_vmail_yes = intl_no_vmail_yes['State'].unique()\n",
        "\n",
        "#intersection  4 types of plan made\n",
        "inter_1 = set(state_intl_vmail_yes).intersection(set(state_intl_vmail_no))\n",
        "inter_2 = set(state_intl_yes_vmail_no).intersection(set(state_intl_yes_vmail_no))\n",
        "Intersection = set(inter_1).intersection(set(inter_2))\n",
        "print(f\"list of poor connectivity states ae :{list(Intersection)}\")\n",
        "\n",
        "\n",
        "\n"
      ],
      "metadata": {
        "id": "sphXarTRZBlm"
      },
      "execution_count": null,
      "outputs": []
    },
    {
      "cell_type": "code",
      "source": [
        "#percentage of people with number of voice mail messages churning/not churnuing to other networks\n",
        "vmail_mssg_churn = telecom_df.groupby(['Churn'])['Number vmail messages'].mean().reset_index(name='perc_vmail_mssg')\n",
        "vmail_mssg_churn"
      ],
      "metadata": {
        "id": "UJ21gO45zHXW"
      },
      "execution_count": null,
      "outputs": []
    },
    {
      "cell_type": "code",
      "source": [
        "# Day data\n",
        "#percentage of people churning with the average day mins,calls and charges\n",
        "telecom_df.groupby(['Churn'])['Total day minutes'].mean().reset_index(name='perc_day_mins')"
      ],
      "metadata": {
        "id": "LxPhfXZA18fk"
      },
      "execution_count": null,
      "outputs": []
    },
    {
      "cell_type": "code",
      "source": [
        "telecom_df.groupby(['Churn'])['Total day calls'].mean().reset_index(name='perc_day_calls')"
      ],
      "metadata": {
        "id": "aiZ4no6e65Cv"
      },
      "execution_count": null,
      "outputs": []
    },
    {
      "cell_type": "code",
      "source": [
        "telecom_df.groupby(['Churn'])['Total day charge'].mean().reset_index(name='perc_day_charges')"
      ],
      "metadata": {
        "id": "yj0spUJS7QX5"
      },
      "execution_count": null,
      "outputs": []
    },
    {
      "cell_type": "code",
      "source": [
        "#night data\n",
        "#percentage of people churning with the  average night mins,callsand charges\n",
        "telecom_df.groupby(['Churn'])['Total night minutes'].mean().reset_index(name='perc_night_mins')"
      ],
      "metadata": {
        "id": "7dQ7D-_M8emZ"
      },
      "execution_count": null,
      "outputs": []
    },
    {
      "cell_type": "code",
      "source": [
        "telecom_df.groupby(['Churn'])['Total night calls'].mean().reset_index(name='perc_night_calls')"
      ],
      "metadata": {
        "id": "F9wvHcBP-vBp"
      },
      "execution_count": null,
      "outputs": []
    },
    {
      "cell_type": "code",
      "source": [
        "telecom_df.groupby(['Churn'])['Total night charge'].mean().reset_index(name='perc_night_charge')"
      ],
      "metadata": {
        "id": "KBBEwI9p-4Kk"
      },
      "execution_count": null,
      "outputs": []
    },
    {
      "cell_type": "code",
      "source": [
        "# Intl data\n",
        "#percentage of people churning with the  average international mins,calls and charges\n",
        "telecom_df.groupby(['Churn'])['Total intl minutes'].mean().reset_index(name='per_intl_mins')"
      ],
      "metadata": {
        "id": "tpy2LDWh_QHl"
      },
      "execution_count": null,
      "outputs": []
    },
    {
      "cell_type": "code",
      "source": [
        "telecom_df.groupby(['Churn'])['Total intl calls'].mean().reset_index(name='per_intl_calls')"
      ],
      "metadata": {
        "id": "DYXp3h-vAJXO"
      },
      "execution_count": null,
      "outputs": []
    },
    {
      "cell_type": "code",
      "source": [
        "telecom_df.groupby(['Churn'])['Total intl charge'].mean().reset_index(name='per_intl_charge')"
      ],
      "metadata": {
        "id": "VtYxt3MqAPQQ"
      },
      "execution_count": null,
      "outputs": []
    },
    {
      "cell_type": "code",
      "source": [
        "telecom_df['Total calls'] = telecom_df['Total day calls'] /telecom_df['Total eve calls'] /telecom_df['Total night calls']\n",
        "telecom_df['Total mins'] = telecom_df['Total day minutes'] /telecom_df['Total eve minutes'] /telecom_df['Total night minutes']\n",
        "telecom_df['Total charge'] = telecom_df['Total day charge'] /telecom_df['Total eve charge'] /telecom_df['Total night charge']\n",
        "\n",
        "# mins per calls\n",
        "telecom_df['min_per_calls'] = telecom_df['Total mins'] / telecom_df['Total calls']\n",
        "\n",
        "# charge per mins\n",
        "telecom_df['charge_per_min'] = telecom_df['Total charge'] / telecom_df['Total mins']\n",
        "\n",
        "# international mins per calls\n",
        "telecom_df['intl_min_per_calls'] = telecom_df['Total intl minutes'] / telecom_df['Total intl calls']\n",
        "\n",
        "# international charge per mins\n",
        "telecom_df['intl_charge_per_min'] = telecom_df['Total intl charge'] / telecom_df['Total intl minutes']\n",
        "\n"
      ],
      "metadata": {
        "id": "z_TE4S5pAWru"
      },
      "execution_count": null,
      "outputs": []
    },
    {
      "cell_type": "code",
      "source": [
        "# Customer service call data\n",
        "print(f\"No of unique service calls made :\", telecom_df[\"Customer service calls\"].nunique())\n",
        "\n",
        "# percentage of churning based on the customer service calls made\n",
        "(telecom_df.groupby(['Customer service calls'])['Churn'].mean()*100).reset_index(name='perc_churned')"
      ],
      "metadata": {
        "id": "yXffcjtADJYy"
      },
      "execution_count": null,
      "outputs": []
    },
    {
      "cell_type": "markdown",
      "source": [
        "### What all manipulations have you done and insights you found?"
      ],
      "metadata": {
        "id": "MSa1f5Uengrz"
      }
    },
    {
      "cell_type": "markdown",
      "source": [
        "In data wrangling the first thing we did is to find out how customer have churn and how many are not and their rate. we known that plotting charts will give us more visual repesntation. so from we got to know that there are 14.5% churn customers are there.                   \n",
        "\n",
        "\n",
        "\n",
        "According to my idea, we will get a clear view of the customers those who aren't churning through graphical representations but we have to deep dive into the churned customer's behaviour and to search for some hypothetical statements and insights which might lead us to the reason for churning. That's why, I took the Churned customer data to find out the reason or churning behaviour and the pattern. Then, I experimented with different logics to extract some insights. I created some new columns like International, evening, day & night call duration as well as international, day, night, evening call rate per minute. Again, I figured out those have taken voice mail plan but not using it and sending less no. of voice mails but talking more durations might be facing some network issues as I myself experienced that voice mssg need some more network stability to be sent. Other reasons are noted below which i have found.\n",
        "\n",
        "\n"
      ],
      "metadata": {
        "id": "LbyXE7I1olp8"
      }
    },
    {
      "cell_type": "markdown",
      "source": [
        "![image.png](data:image/png;base64,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)"
      ],
      "metadata": {
        "id": "sRcDOs4BclNW"
      }
    },
    {
      "cell_type": "markdown",
      "source": [
        "For All Area Code\n",
        "\n",
        "\n",
        "| Area Code | Churn | Churn Rate (%) | Day Charge (Mean) | Eve Charge (Mean) | Night Charge (Mean) | International Charge (Mean) |\n",
        "|-----------|-------|-----------------|-------------------|-------------------|----------------------|------------------------------|\n",
        "| 408       | False | 21.48           | 30.12             | 17.11             | 8.96                 | 2.73                         |\n",
        "| 408       | True  | 3.06            | 29.98             | 17.21             | 8.98                 | 2.73                         |\n",
        "| 415       | False | 42.57           | 30.87             | 17.06             | 9.09                 | 2.79                         |\n",
        "| 415       | True  | 7.08            | 30.72             | 17.06             | 9.14                 | 2.79                         |\n",
        "| 510       | False | 21.45           | 30.39             | 17.11             | 9.01                 | 2.74                         |\n",
        "| 510       | True  | 3.75            | 30.61             | 17.16             | 8.91                 | 2.75                         |\n"
      ],
      "metadata": {
        "id": "-bZQghdwwisv"
      }
    },
    {
      "cell_type": "markdown",
      "source": [
        "From the above table  we can see that  more customer are from area code 415 but if we  check the distribution of churn it almost same in all area code."
      ],
      "metadata": {
        "id": "4hdWeIQdZ5v-"
      }
    },
    {
      "cell_type": "markdown",
      "source": [
        "Churn on bases of International plan\n",
        "\n",
        "\n",
        "\n",
        "\n",
        "In this we found out that those who has international plan their churn rate is higher almost 42.41% customer are churned .\n",
        "\n",
        "\n"
      ],
      "metadata": {
        "id": "Cl7XW00kbluQ"
      }
    },
    {
      "cell_type": "markdown",
      "source": [
        "Churn on basis of International plan & voice mail plan"
      ],
      "metadata": {
        "id": "Rohr1FEFTB9_"
      }
    },
    {
      "cell_type": "markdown",
      "source": [
        "Total customer churn are :- 483\n",
        "\n",
        "\n",
        "\n",
        "|                       | International Plan - Yes | International Plan - No |\n",
        "|-----------------------|--------------------------|--------------------------|\n",
        "| Voice Mail Plan - Yes  | 36                       | 44                       |\n",
        "| Voice Mail Plan - No   | 101                      | 302                      |\n"
      ],
      "metadata": {
        "id": "GK5L46D1TQoe"
      }
    },
    {
      "cell_type": "markdown",
      "source": [
        "so from this table we can say that those who has neither international plan nor having voice mail plan are churned high  almost around  62%."
      ],
      "metadata": {
        "id": "vQE--dctUe20"
      }
    },
    {
      "cell_type": "markdown",
      "source": [
        "## ***4. Data Vizualization, Storytelling & Experimenting with charts : Understand the relationships between variables***"
      ],
      "metadata": {
        "id": "GF8Ens_Soomf"
      }
    },
    {
      "cell_type": "markdown",
      "source": [
        "#### Chart - 1 visualization of dependent variable"
      ],
      "metadata": {
        "id": "0wOQAZs5pc--"
      }
    },
    {
      "cell_type": "code",
      "source": [
        "# Chart - 1 visualization code\n",
        "# Dependant Column Value Counts\n",
        "print(telecom_df.Churn.value_counts())\n",
        "print(\" \")\n",
        "# Dependant Variable Column Visualization\n",
        "telecom_df['Churn'].value_counts().plot(kind='pie',\n",
        "                              figsize=(10,6),\n",
        "                               autopct=\"%1.1f%%\",\n",
        "                               startangle=90,\n",
        "                               shadow=True,\n",
        "                               labels=['Not Churn(%)','Churn(%)'],\n",
        "                               colors=['skyblue','red'],\n",
        "                                explode=(0.12,0))\n",
        "plt.title('Total percenge of churn')\n",
        "\n",
        "#displaing charts\n",
        "plt.show()\n"
      ],
      "metadata": {
        "id": "7v_ESjsspbW7"
      },
      "execution_count": null,
      "outputs": []
    },
    {
      "cell_type": "markdown",
      "source": [
        "##### 1. Why did you pick the specific chart?"
      ],
      "metadata": {
        "id": "K5QZ13OEpz2H"
      }
    },
    {
      "cell_type": "markdown",
      "source": [
        "A pie chart expresses a part-to-whole relationship in your data. It's easy to explain the percentage comparison through area covered in a circle with  colors. Where differenet percentage comparison comes into action pie chart is used frequently. So, I used Pie chart and which helped me to get the percentage comparision of the dependant variable.\n",
        "\n",
        "\n",
        "\n"
      ],
      "metadata": {
        "id": "XESiWehPqBRc"
      }
    },
    {
      "cell_type": "markdown",
      "source": [
        "##### 2. What is/are the insight(s) found from the chart?"
      ],
      "metadata": {
        "id": "lQ7QKXXCp7Bj"
      }
    },
    {
      "cell_type": "markdown",
      "source": [
        "From the above chart I got to know that, there are 2850 customers which are not churned which is 85.5% of the whole customers data given in the dataset. In other hand, 483 customers are churned which is 14.5%% of the whold customers data given in the dataset.\n",
        "\n",
        "14.5% customers are churned which might look like a small number, but once upon a time the 14.5% was 1.45% which has grown upto 14.5%. So, Immediate action should be taken."
      ],
      "metadata": {
        "id": "C_j1G7yiqdRP"
      }
    },
    {
      "cell_type": "markdown",
      "source": [
        "##### 3. Will the gained insights help creating a positive business impact?\n",
        "Are there any insights that lead to negative growth? Justify with specific reason."
      ],
      "metadata": {
        "id": "448CDAPjqfQr"
      }
    },
    {
      "cell_type": "markdown",
      "source": [
        "Customer churn is often referred to as customer attrition, or customer defection which is the rate at which the customers are lost. Telecom companies often use customer churn as a key business metrics to predict the number of customers that will leave a telecom service provider. Churn is significant in the telecommunication industry because it directly affects the competitiveness of the service provider.\n",
        "\n",
        "It's easy to loss customers but too difficult to aquire one. One churned cutomer will make 3-4 customers away those might be acquired by your teleservice provider with \"POWER OF WORDS\".\n",
        "\n",
        "When Jio provided free internnet services to everyone, and started acquiring maximum number of customers, so cutomer churn rate for other teleservice providers increased and customers from other teleservice providers those who converted to JIO spread the benefit of JIO to their relatives and friends and they also converted too easily. So, \"POWER OF WORDS\" also comes into action that wrong and bad reviews spread first."
      ],
      "metadata": {
        "id": "3cspy4FjqxJW"
      }
    },
    {
      "cell_type": "markdown",
      "source": [
        "#### Chart - 2 column wise Histogram and Box plot (Univariate)"
      ],
      "metadata": {
        "id": "KSlN3yHqYklG"
      }
    },
    {
      "cell_type": "code",
      "source": [
        "# Chart - 2 visualization code of histogram plot and boxplot for each column to know the data distribution\n",
        "# Assuming you want to iterate over the columns of df\n",
        "for col in telecom_df.describe().columns:\n",
        "    fig, axes = plt.subplots(nrows=1, ncols=2, figsize=(18, 6))\n",
        "    sns.histplot(telecom_df[col], ax=axes[0], kde=True)\n",
        "    sns.boxplot(telecom_df[col], ax=axes[1], orient='h', showmeans=True, color='red')\n",
        "    fig.suptitle('Distribution plot of ' + col, fontsize=15)\n",
        "    plt.show()\n",
        "\n",
        "\n",
        "\n"
      ],
      "metadata": {
        "id": "R4YgtaqtYklH"
      },
      "execution_count": null,
      "outputs": []
    },
    {
      "cell_type": "markdown",
      "source": [
        "##### 1. Why did you pick the specific chart?"
      ],
      "metadata": {
        "id": "t6dVpIINYklI"
      }
    },
    {
      "cell_type": "markdown",
      "source": [
        "When the goal is to show the distribution of a single variable\n",
        " we use histogram. Histrogram are type of bar chart that display the frequency of count of data points within certain ranges. Histrogram are particularly useful for displaying continuous data. such as age,hight,weight,income,they allow you to see the shape of distribution including any skewness or outliers,and can help you identity parttens or trends in the data.\n",
        "\n",
        " Box plots are also useful for comparing the distribution of two or more dtatset.as they allow you to see differences or similarities in the  spread and central tendency of the data,box plot also known as box and whisker plot are a type of data visualization  used to display the distribution of a dataset and provide a summary of its key statistical properties"
      ],
      "metadata": {
        "id": "5aaW0BYyYklI"
      }
    },
    {
      "cell_type": "markdown",
      "source": [
        "##### 2. What is/are the insight(s) found from the chart?"
      ],
      "metadata": {
        "id": "ijmpgYnKYklI"
      }
    },
    {
      "cell_type": "markdown",
      "source": [
        "From the  above distribution charts we can see that all columns are symmetric distributed and mean is nearly same with median for numerical columns.Here Area code will be trerated as categorical values as there are only 3 values in the particular column."
      ],
      "metadata": {
        "id": "PSx9atu2YklI"
      }
    },
    {
      "cell_type": "markdown",
      "source": [
        "##### 3. Will the gained insights help creating a positive business impact?\n",
        "Are there any insights that lead to negative growth? Justify with specific reason."
      ],
      "metadata": {
        "id": "-JiQyfWJYklI"
      }
    },
    {
      "cell_type": "markdown",
      "source": [
        "Histogram and Box plots cannot gives us whole information regarding data. it's done just to see the distribution of the columns data over the dataset."
      ],
      "metadata": {
        "id": "BcBbebzrYklV"
      }
    },
    {
      "cell_type": "markdown",
      "source": [
        "#### Chart - 3 State vs Average True churn percentage"
      ],
      "metadata": {
        "id": "EM7whBJCYoAo"
      }
    },
    {
      "cell_type": "code",
      "source": [
        "# Chart - 3 State vs Average True churn percentage visualization code\n",
        "# Visualization top 10 churned state\n",
        "plt.figure(figsize=(10, 5))\n",
        "bar1 = ((telecom_df.groupby(['State'])['Churn'].mean() * 100).sort_values(ascending=False).reset_index(name=\"Average True Churn %\").head(10))\n",
        "plt_bar = sns.barplot(data=bar1, x='State', y='Average True Churn %')\n",
        "\n",
        "for bar in plt_bar.patches:\n",
        "    plt_bar.annotate(format(bar.get_height(), '.2f'), (bar.get_x() + bar.get_width() / 2, bar.get_height()),\n",
        "                     ha='center', va='center', size=12, xytext=(0, 8), textcoords='offset points')\n",
        "\n",
        "# State vs. average true churn percentage visualization code\n",
        "# Visualizing top 10 churned states\n",
        "bar2 = ((telecom_df.groupby(['State'])['Churn'].mean()) * 100).sort_values(ascending=False).head(10).plot.bar(color=['violet', 'indigo', 'b', 'g', 'y', 'orange', 'r'])\n",
        "plt.title(\"State with most churn percentage\", fontsize=20)\n",
        "plt.xlabel('State', fontsize=15)\n",
        "plt.ylabel('Percentage %', fontsize=15)\n",
        "# Setting limit of the y-axis from 0 to 30\n",
        "plt.ylim(0, 30)\n",
        "plt.show()\n",
        "\n"
      ],
      "metadata": {
        "id": "t6GMdE67YoAp"
      },
      "execution_count": null,
      "outputs": []
    },
    {
      "cell_type": "code",
      "source": [
        "# Visualizing botton 10 churned state\n",
        "\n",
        "plt.figure(figsize=(9, 5))\n",
        "bar1 = ((telecom_df.groupby(['State'])['Churn'].mean() * 100).sort_values(ascending=False).reset_index(name=\"Average True Churn %\").head(10))\n",
        "plt_bar = sns.barplot(data=bar1, x='State', y='Average True Churn %')\n",
        "\n",
        "for bar in plt_bar.patches:\n",
        "    plt_bar.annotate(format(bar.get_height(), '.2f'), (bar.get_x() + bar.get_width() / 2, bar.get_height()),\n",
        "                     ha='center', va='center', size=12, xytext=(0, 8), textcoords='offset points')\n",
        "\n",
        "# State vs. average true churn percentage visualization code\n",
        "# Visualizing top 10 churned states\n",
        "bar2 = ((telecom_df.groupby(['State'])['Churn'].mean()) * 100).sort_values(ascending=False).head(10).plot.bar(color=['violet', 'indigo', 'b', 'g', 'y', 'orange', 'r'])\n",
        "plt.title(\"State with least churn percentage\", fontsize=20)\n",
        "plt.xlabel('State', fontsize=15)\n",
        "plt.ylabel('Percentage %', fontsize=15)\n",
        "# Setting limit of the y-axis from 0 to 10\n",
        "plt.ylim(0, 10)\n",
        "plt.show()\n",
        "\n"
      ],
      "metadata": {
        "id": "WyQfEzuujvJe"
      },
      "execution_count": null,
      "outputs": []
    },
    {
      "cell_type": "markdown",
      "source": [
        "##### 1. Why did you pick the specific chart?"
      ],
      "metadata": {
        "id": "fge-S5ZAYoAp"
      }
    },
    {
      "cell_type": "markdown",
      "source": [
        "Bar charts show the frequency counts of values for the different levels of a categorical or nominal variable. Sometimes, bar charts show other statistics, such as percentages.\n",
        "\n",
        "To show the average percentage of true churn with respect to states, I have used Bar Chart."
      ],
      "metadata": {
        "id": "5dBItgRVYoAp"
      }
    },
    {
      "cell_type": "markdown",
      "source": [
        "##### 2. What is/are the insight(s) found from the chart?"
      ],
      "metadata": {
        "id": "85gYPyotYoAp"
      }
    },
    {
      "cell_type": "markdown",
      "source": [
        "There are 51 states having different churn rates .\n",
        "\n",
        "CA, NJ ,TX , MD ,SC ,MI, MS, NV, WA, ME are the ones who have higher churn rate more then 21.74% which is more than 50% of average churn rate.and AK, PA, ND, NE, NH,  NM,  NY, OH are the ones who have churn rate which is less than 10%.\n",
        "\n",
        "Under the Data wrangling, I have defined a hypothetical logic for some states with poor network region and some states where service needs to be maintained or new installations required. So, here states [ ' NV ', ' NJ ' ] are common which are in top 10 churned states.\n",
        "\n"
      ],
      "metadata": {
        "id": "4jstXR6OYoAp"
      }
    },
    {
      "cell_type": "markdown",
      "source": [
        "##### 3. Will the gained insights help creating a positive business impact?\n",
        "Are there any insights that lead to negative growth? Justify with specific reason."
      ],
      "metadata": {
        "id": "RoGjAbkUYoAp"
      }
    },
    {
      "cell_type": "markdown",
      "source": [
        "Are there any insights that lead to negative growth? Justify with specific reason.\n",
        "\n",
        "Yes, the data of state wise churning depicts that 10% of a large state is same as 20% of a smaller state. So, we can't neglect the churn rates and will have to sagreggate based on the area covereage in respective states. Still, priotizing to actionable tasks we should try to figure out the issues in top 10 churning states first.\n",
        "\n",
        "The issue might be poor network coverage or negligible maintaince on existing antenna, or total area coverage & no. of mobile tower or users is low or new towers needs to be installed to coverage additional areas."
      ],
      "metadata": {
        "id": "zfJ8IqMcYoAp"
      }
    },
    {
      "cell_type": "markdown",
      "source": [
        "#### Chart - 4 Account Length with churn"
      ],
      "metadata": {
        "id": "4Of9eVA-YrdM"
      }
    },
    {
      "cell_type": "code",
      "source": [
        "# Chart - 4 visualization code\n",
        "# One digit account length\n",
        "\n",
        "\n",
        "\n",
        "# Assuming Churn column has values 'No' and 'Yes'\n",
        "# Change the column name accordingly if it's different in your dataset\n",
        "churn_counts = telecom_df[telecom_df['Account length'] <= 9]['Churn'].value_counts().reset_index()\n",
        "\n",
        "# Create a pie chart\n",
        "plt.figure(figsize=(15, 6))\n",
        "plt.pie(churn_counts['Churn'], labels=churn_counts['index'], autopct=\"%1.1f%%\", startangle=90, shadow=True, colors=['skyblue', 'red'],explode=(0,0))\n",
        "\n",
        "# Set title\n",
        "plt.title('Churn Percentage for One Digit Account Length',fontsize = 18)\n",
        "\n",
        "# Show the plot\n",
        "plt.show()\n"
      ],
      "metadata": {
        "id": "irlUoxc8YrdO"
      },
      "execution_count": null,
      "outputs": []
    },
    {
      "cell_type": "code",
      "source": [
        "# Two Digit Account Length\n",
        "print(telecom_df[(telecom_df['Account length']<=99) & (telecom_df['Account length']>=10)]['Churn'].value_counts())\n",
        "print(\" \")\n",
        "\n",
        "# Visualizing Two Digit Account Length Based on Churn percentage\n",
        "telecom_df[(telecom_df['Account length']<=99) & (telecom_df['Account length']>=10)]['Churn'].value_counts().plot(kind='pie',\n",
        "                              figsize=(15,6),\n",
        "                               autopct=\"%1.1f%%\",\n",
        "                               startangle=90,\n",
        "                               shadow=True,\n",
        "                               labels=['No','Yes'],\n",
        "                               colors=['skyblue','red'])\n",
        "\n"
      ],
      "metadata": {
        "id": "CJu7qf6t_-11"
      },
      "execution_count": null,
      "outputs": []
    },
    {
      "cell_type": "code",
      "source": [
        "# Three Digit Account Length\n",
        "print(telecom_df[(telecom_df['Account length']<=telecom_df['Account length'].max()) & (telecom_df['Account length']>=100)]['Churn'].value_counts())\n",
        "print(\" \")\n",
        "\n",
        "# Visualizing Three Digit Account Length Based on Churn percentage\n",
        "telecom_df[(telecom_df['Account length']<=telecom_df['Account length'].max()) & (telecom_df['Account length']>=100)]['Churn'].value_counts().plot(kind='pie',\n",
        "                              figsize=(15,6),\n",
        "                               autopct=\"%1.1f%%\",\n",
        "                               startangle=90,\n",
        "                               shadow=True,\n",
        "                               labels=['No','Yes'],\n",
        "                               colors=['skyblue','red'])\n",
        "\n"
      ],
      "metadata": {
        "id": "5n7CBTeDBEuQ"
      },
      "execution_count": null,
      "outputs": []
    },
    {
      "cell_type": "code",
      "source": [
        "# Box Plot for Account Length attribute\n",
        "plt.figure(figsize=(10, 8))\n",
        "sns.boxplot(data=telecom_df, x='Churn', y='Account length', showmeans = True)\n",
        "plt.title('Account length boxplot with Churn',fontsize = 18)\n",
        "plt.show()"
      ],
      "metadata": {
        "id": "BE07pAFoCLpI"
      },
      "execution_count": null,
      "outputs": []
    },
    {
      "cell_type": "markdown",
      "source": [
        "##### 1. Why did you pick the specific chart?"
      ],
      "metadata": {
        "id": "iky9q4vBYrdO"
      }
    },
    {
      "cell_type": "markdown",
      "source": [
        "A pie chart expresses a part-to-whole relationship in your data. It's easy to explain the percentage comparison through area covered in a circle with different colors. Where differenet percentage comparison comes into action pie chart is used frequently. So, I used Pie chart and which helped me to get the percentage comparision of the churn percentage account length wise.\n",
        "\n",
        "Box plots are used to show distributions of numeric data values, especially when you want to compare them between multiple groups. They are built to provide high-level information at a glance, offering general information about a group of data's symmetry, skew, variance, and outliers. So, I used box plot to get the maximum and minimum value with well sagreggated outliers with well defined mean and median as shown in the box plot graph."
      ],
      "metadata": {
        "id": "aJRCwT6DYrdO"
      }
    },
    {
      "cell_type": "markdown",
      "source": [
        "##### 2. What is/are the insight(s) found from the chart?"
      ],
      "metadata": {
        "id": "F6T5p64dYrdO"
      }
    },
    {
      "cell_type": "markdown",
      "source": [
        "**Account Length**\n",
        "\n",
        "We can catagories Account Length into three catagories like\n",
        "\n",
        "**One Digit Length**\n",
        "\n",
        " Churn True -8.3%\n",
        "\n",
        " No. of Churn True-2\n",
        "\n",
        "\n",
        "\n",
        " Churn False-91.7%\n",
        "\n",
        "**Two Digit Length**\n",
        "\n",
        "Churn True -14.0%\n",
        "\n",
        "No. of Churn True-225\n",
        "\n",
        "\n",
        "\n",
        "Churn False-86.0%\n",
        "\n",
        "\n",
        "**Three Digit Length**\n",
        "\n",
        "Churn True -15.0%\n",
        "\n",
        "No. of Churn True-256\n",
        "\n",
        "\n",
        "\n",
        "Churn False-85.0%\n",
        "\n",
        "\n",
        "\n",
        "\n",
        "**REMARK**\n",
        "\n",
        "\n",
        "AS from the above  record, we can see that Two digit Account Length customers are churning with a number of 225\n",
        "And Three digit Account Length customers are churning with a number of 256\n",
        "\n",
        "\n",
        "\n"
      ],
      "metadata": {
        "id": "Xx8WAJvtYrdO"
      }
    },
    {
      "cell_type": "markdown",
      "source": [
        "##### 3. Will the gained insights help creating a positive business impact?\n",
        "Are there any insights that lead to negative growth? Justify with specific reason."
      ],
      "metadata": {
        "id": "y-Ehk30pYrdP"
      }
    },
    {
      "cell_type": "markdown",
      "source": [
        "Accoun length is the no. of days the customers are active. So for the new customers those churning rate is too low around 8.3% in percentage and number is 2. They might be just using the telecom service to experience the benefits and they might not be satisfied with the service provided and churned.\n",
        "\n",
        "Those people whose account length are between 10 to 99 are having a churning rate of 15%. The customers below 50 might be treated as new customers and more than 55 and less than 99 they mightn't be geting benefits from plan taken.\n",
        "\n",
        "Those people whise account length are more than 100 are like of old customers and they might be churning due to no additional offers given to them like power plus plan or other benefits.\n",
        "\n",
        "So, Yes Account Length is also depicting a clear view of churing reasons and inaights."
      ],
      "metadata": {
        "id": "jLNxxz7MYrdP"
      }
    },
    {
      "cell_type": "markdown",
      "source": [
        "#### Chart - 5 International Plan (Univariate + Bivariate)"
      ],
      "metadata": {
        "id": "bamQiAODYuh1"
      }
    },
    {
      "cell_type": "code",
      "source": [
        "# Chart - 5 visualization code\n",
        "# Data for international plan\n",
        "international_plan_counts = telecom_df['International plan'].value_counts()\n",
        "print(international_plan_counts)\n",
        "print(\" \")\n",
        "\n",
        "# Visualization: Percentage of customers with an international plan\n",
        "# Color palette selection\n",
        "colors = sns.color_palette('husl')[0:7]\n",
        "text_props = {'fontsize': 13}\n",
        "\n",
        "# Plotting pie chart\n",
        "plt.figure(figsize=(15, 7))\n",
        "plt.pie(international_plan_counts, labels=['No', 'Yes'], startangle=90, colors=colors, autopct=\"%1.1f%%\", textprops=text_props)\n",
        "plt.title('International Plan', fontsize=18)\n",
        "plt.show()\n"
      ],
      "metadata": {
        "id": "TIJwrbroYuh3"
      },
      "execution_count": null,
      "outputs": []
    },
    {
      "cell_type": "code",
      "source": [
        "# Assigning values for furthur charts\n",
        "i1 = telecom_df['International plan'].unique()\n",
        "i2 = telecom_df.groupby('International plan')['Churn'].mean()*100\n",
        "i3 = telecom_df.groupby(['International plan'])['Total intl charge'].mean()\n",
        "i4 = telecom_df.groupby([\"Churn\"])['Total intl minutes'].mean()"
      ],
      "metadata": {
        "id": "ZrPnX0fjDhZ9"
      },
      "execution_count": null,
      "outputs": []
    },
    {
      "cell_type": "code",
      "source": [
        "# Visualizing code for people churning percentage having international plan\n",
        "plt.figure(figsize=(10, 5))\n",
        "plt_bar = sns.barplot(x=i1, y=i2)\n",
        "\n",
        "for bar in plt_bar.patches:\n",
        "    plt_bar.annotate(format(bar.get_height(), '.2f'), (bar.get_x() + bar.get_width() / 2, bar.get_height()),\n",
        "                     ha='center', va='center', size=12, xytext=(0, 8), textcoords='offset points')\n",
        "\n",
        "\n",
        "plt.title(\"percentage of customer churn on basis of international plan\", fontsize=20)\n",
        "plt.xlabel('international plan', fontsize=15)\n",
        "plt.ylabel('Percentage %', fontsize=15)\n",
        "# Setting limit of the y-axis from 0 to 45\n",
        "plt.ylim(0, 45)\n",
        "plt.show()\n"
      ],
      "metadata": {
        "id": "0v0oKT3sEyzB"
      },
      "execution_count": null,
      "outputs": []
    },
    {
      "cell_type": "code",
      "source": [
        "# Visualizing code for average calling charge of customers having international plan\n",
        "plt.figure(figsize=(6,7))\n",
        "plt_bar = sns.barplot(x=i2, y=i3)\n",
        "\n",
        "for bar in plt_bar.patches:\n",
        "    plt_bar.annotate(format(bar.get_height(), '.2f'), (bar.get_x() + bar.get_width() / 2, bar.get_height()),\n",
        "                     ha='center', va='center', size=12, xytext=(0, 8), textcoords='offset points')\n",
        "\n",
        "\n",
        "plt.title(\"Average charges  on  the basis of international plan\", fontsize=20)\n",
        "plt.xlabel('international plan', fontsize=15)\n",
        "plt.ylabel('Charges %', fontsize=15)\n",
        "# Setting limit of the y-axis from 0 to 3.5\n",
        "plt.ylim(0, 3.5)\n",
        "plt.show()\n",
        "\n"
      ],
      "metadata": {
        "id": "HHKZSmhnIElm"
      },
      "execution_count": null,
      "outputs": []
    },
    {
      "cell_type": "code",
      "source": [
        "# Visualizing code for average minutes takled by customers having international plan\n",
        "plt.figure(figsize=(6,7))\n",
        "plt_bar = sns.barplot(x=i1, y=i4)\n",
        "\n",
        "for bar in plt_bar.patches:\n",
        "    plt_bar.annotate(format(bar.get_height(), '.2f'), (bar.get_x() + bar.get_width() / 2, bar.get_height()),\n",
        "                     ha='center', va='center', size=12, xytext=(0, 8), textcoords='offset points')\n",
        "\n",
        "\n",
        "plt.title(\"Average international minutes on  the basis of international plan\", fontsize=20)\n",
        "plt.xlabel('international plan', fontsize=15)\n",
        "plt.ylabel(' Minutes', fontsize=15)\n",
        "# Setting limit of the y-axis from 0 to 12\n",
        "plt.ylim(0, 12)\n",
        "plt.show()\n",
        "\n"
      ],
      "metadata": {
        "id": "nb7NR0MOa0qs"
      },
      "execution_count": null,
      "outputs": []
    },
    {
      "cell_type": "markdown",
      "source": [
        "##### 1. Why did you pick the specific chart?"
      ],
      "metadata": {
        "id": "QHF8YVU7Yuh3"
      }
    },
    {
      "cell_type": "markdown",
      "source": [
        "Pie charts are used to represent the proportional data or relative data in a single chart. The concept of pie slices is used to show the percentage of a particular data from the whole pie.\n",
        "\n",
        "Thus, I used to show the percentage of people taken international plan through pie chart with differentr colored area under a circle.\n",
        "\n",
        "A bar chart is used when you want to show a distribution of data points or perform a comparison of metric values across different subgroups of your data. From a bar chart, we can see which groups are highest or most common, and how other groups compare against the others.\n",
        "\n",
        "Thus, I used bar chart to show the percentage of customers churned having international plan and the avergae calling charge as well as conversation average minutes of customers those have international plan."
      ],
      "metadata": {
        "id": "dcxuIMRPYuh3"
      }
    },
    {
      "cell_type": "markdown",
      "source": [
        "##### 2. What is/are the insight(s) found from the chart?"
      ],
      "metadata": {
        "id": "GwzvFGzlYuh3"
      }
    },
    {
      "cell_type": "markdown",
      "source": [
        "INTERNATIONAL PLAN\n",
        "\n",
        "3010 dont have a international plan\n",
        "\n",
        "323 have a international plan\n",
        "\n",
        "Among those who have a international plan 42.4 % people churn.\n",
        "\n",
        "Whereas among those who dont have a international plan only 11.4 % people churn.\n",
        "\n",
        "Among those who have a international plan their average charge is 2.86 and they talk for 10.7 minutes average .\n",
        "\n",
        "Whereas among those who dont have a international plan their average charge is 2.75 and they talk for 10.15 minutes average .\n",
        "\n",
        "The reason why people having international plan might be leaving is that they are paying same amount of money for international calls as for those customers who dont have a international plan.Hence they arent getting any benefits for having an international plan so they might be unhappy.\n",
        "\n",
        "*Customers with the International Plan tend to churn more frequently *"
      ],
      "metadata": {
        "id": "uyqkiB8YYuh3"
      }
    },
    {
      "cell_type": "markdown",
      "source": [
        "##### 3. Will the gained insights help creating a positive business impact?\n",
        "Are there any insights that lead to negative growth? Justify with specific reason."
      ],
      "metadata": {
        "id": "qYpmQ266Yuh3"
      }
    },
    {
      "cell_type": "markdown",
      "source": [
        "Yes, the insights found will definitely help for a positive business impact. Thsoe people who have international plan they are paying some additional charges to get the plan but the talk time value charge is same as those customers having no international plan. That's might be great reason for more churns those having international plan."
      ],
      "metadata": {
        "id": "_WtzZ_hCYuh4"
      }
    },
    {
      "cell_type": "markdown",
      "source": [
        "#### Chart - 6 Voice Mail"
      ],
      "metadata": {
        "id": "OH-pJp9IphqM"
      }
    },
    {
      "cell_type": "code",
      "source": [
        "# Chart - 6 visualization code\n",
        "# Data for the voice mail plan\n",
        "voice = telecom_df['Voice mail plan'].value_counts()\n",
        "\n",
        "# Visualization code for customers percentage having a voice mail plan\n",
        "# Color palette selection\n",
        "palette_color = sns.color_palette('pastel')\n",
        "textprops = {'fontsize': 13}\n",
        "\n",
        "# Plotting\n",
        "plt.figure(figsize=(9, 7))\n",
        "plt.pie(voice, labels=['No', 'Yes'], startangle=90, colors=palette_color, autopct=\"%1.1f%%\", textprops=textprops)\n",
        "plt.title('Distribution of customers having Voice mail plan', fontsize=18)\n",
        "plt.show()\n",
        "\n"
      ],
      "metadata": {
        "id": "kuRf4wtuphqN"
      },
      "execution_count": null,
      "outputs": []
    },
    {
      "cell_type": "code",
      "source": [
        "#visualization code for customer churning while having voice mail plan\n",
        "cc1 = list(['No', 'Yes'])\n",
        "cc2 = telecom_df.groupby('Voice mail plan')['Churn'].mean()*100\n",
        "\n",
        "plt.figure(figsize=(6,7))\n",
        "plt_bar = sns.barplot(x=cc1, y=cc2)\n",
        "\n",
        "for bar in plt_bar.patches:\n",
        "    plt_bar.annotate(format(bar.get_height(), '.2f'), (bar.get_x() + bar.get_width() / 2, bar.get_height()),\n",
        "                     ha='center', va='center', size=12, xytext=(0, 8), textcoords='offset points')\n",
        "\n",
        "\n",
        "plt.title(\"percentage of customer churn on basis of voice mail plan\", fontsize=20)\n",
        "plt.xlabel('Voice mail plan', fontsize=15)\n",
        "plt.ylabel(' percentage (%)', fontsize=15)\n",
        "plt.ylim\n",
        "plt.show()\n",
        "\n",
        "\n"
      ],
      "metadata": {
        "id": "-SKxzBh7u3jM"
      },
      "execution_count": null,
      "outputs": []
    },
    {
      "cell_type": "markdown",
      "source": [
        "##### 1. Why did you pick the specific chart?"
      ],
      "metadata": {
        "id": "bbFf2-_FphqN"
      }
    },
    {
      "cell_type": "markdown",
      "source": [
        "\n",
        "Pie chart is a type of graph in which a circle is divided into sectors that each represents a proportion of the whole. Pie charts are a useful way to organize data in order to see the size of components relative to the whole, and are particularly good at showing percentage or proportional data.\n",
        "\n",
        "Thus, I have used pie chart to show the percentage of customers having voice mail plan.\n",
        "\n",
        "The bar graph is used to compare the items between different groups over time. Bar graphs are used to measure the changes over a period of time.\n",
        "\n",
        "Thus, I have used bar chart to show the percentage of customers churned having voice mail plan."
      ],
      "metadata": {
        "id": "loh7H2nzphqN"
      }
    },
    {
      "cell_type": "markdown",
      "source": [
        "##### 2. What is/are the insight(s) found from the chart?"
      ],
      "metadata": {
        "id": "_ouA3fa0phqN"
      }
    },
    {
      "cell_type": "markdown",
      "source": [
        "VOICE MAIL\n",
        "\n",
        "2411 dont have a voice mail plan\n",
        "\n",
        "922 have a voice mail plan\n",
        "\n",
        "Among those who dont have a voice mail 16.7 % people churn.\n",
        "\n",
        "Whereas among those who have a voice mail plan only 8.7 % people churn.\n",
        "\n",
        "Hypothesis Based on Voice Mail\n",
        "\n",
        "Customers sending less number of voicemails either as per their Requirement or There would be less Network Stability at that place for which they won't be able to send the voice message successfully.\n",
        "\n",
        "*Customers with the Voice Mail Plan tend to churn less frequently *"
      ],
      "metadata": {
        "id": "VECbqPI7phqN"
      }
    },
    {
      "cell_type": "markdown",
      "source": [
        "##### 3. Will the gained insights help creating a positive business impact?\n",
        "Are there any insights that lead to negative growth? Justify with specific reason."
      ],
      "metadata": {
        "id": "Seke61FWphqN"
      }
    },
    {
      "cell_type": "markdown",
      "source": [
        "Voice mail plan doesn't have that much impact in business untill the hypothesis has been proven. If the hypothesis remains true, we need to take care of the respective states where there is less network stability or the states the towers needs either maintainance or new towers should be installed.\n",
        "\n",
        "yes, voice mail plan might be considered partially"
      ],
      "metadata": {
        "id": "DW4_bGpfphqN"
      }
    },
    {
      "cell_type": "markdown",
      "source": [
        "#### Chart - 7 Area code\n"
      ],
      "metadata": {
        "id": "PIIx-8_IphqN"
      }
    },
    {
      "cell_type": "code",
      "source": [
        "# Assigning values for furthur charts\n",
        "a1 = telecom_df['Area code'].unique()\n",
        "b1= telecom_df.groupby('Area code')['Churn'].mean()*100"
      ],
      "metadata": {
        "id": "cRupGglVH3wB"
      },
      "execution_count": null,
      "outputs": []
    },
    {
      "cell_type": "code",
      "source": [
        "# Chart - 7 visualization code for Area code wise average churn percentage\n",
        "a1 = telecom_df['Area code'].unique()\n",
        "b1= telecom_df.groupby('Area code')['Churn'].mean()*100\n",
        "\n",
        "\n",
        "plt.figure(figsize=(6,5))\n",
        "plt_bar = sns.barplot(x=a1, y=b1)\n",
        "\n",
        "for bar in plt_bar.patches:\n",
        "    plt_bar.annotate(format(bar.get_height(), '.2f'), (bar.get_x() + bar.get_width() / 2, bar.get_height()),\n",
        "                     ha='center', va='center', size=12, xytext=(0, 8), textcoords='offset points')\n",
        "\n",
        "\n",
        "plt.title(\"Area code vs churn percentage\", fontsize=20)\n",
        "plt.xlabel('Area code', fontsize=15)\n",
        "plt.ylabel('  Churn percentage (%)', fontsize=15)\n",
        "plt.ylim(0,17)\n",
        "plt.show()\n",
        "\n"
      ],
      "metadata": {
        "id": "lqAIGUfyphqO"
      },
      "execution_count": null,
      "outputs": []
    },
    {
      "cell_type": "markdown",
      "source": [
        "##### 1. Why did you pick the specific chart?"
      ],
      "metadata": {
        "id": "t27r6nlMphqO"
      }
    },
    {
      "cell_type": "markdown",
      "source": [
        "Bar charts are used to compare the size or frequency  of  different categories or group of data. bar charts are useful to comparing data acroess of different categoeries and they can be used to  display a large amount of data in a  small space.\n",
        "\n",
        "To show the average percentage of true churn with respect to Area Code, I have used Bar Chart."
      ],
      "metadata": {
        "id": "iv6ro40sphqO"
      }
    },
    {
      "cell_type": "markdown",
      "source": [
        "##### 2. What is/are the insight(s) found from the chart?"
      ],
      "metadata": {
        "id": "r2jJGEOYphqO"
      }
    },
    {
      "cell_type": "markdown",
      "source": [
        "All Area Code have around 14% Churn rate. So, Area Code doesn't matter."
      ],
      "metadata": {
        "id": "Po6ZPi4hphqO"
      }
    },
    {
      "cell_type": "markdown",
      "source": [
        "##### 3. Will the gained insights help creating a positive business impact?\n",
        "Are there any insights that lead to negative growth? Justify with specific reason."
      ],
      "metadata": {
        "id": "b0JNsNcRphqO"
      }
    },
    {
      "cell_type": "markdown",
      "source": [
        "No, Area Code doesn't have any contribution to churn rate for 14% churn rate is same for all the area codes. But while furthur sagreggating the area codes with respective states in those area code, it can be analysed the states in which the issue is happeing. So, it has been defined above.\n",
        "\n",
        "So, here Area code won't help to create business impact but the respective states wise analysis can help."
      ],
      "metadata": {
        "id": "xvSq8iUTphqO"
      }
    },
    {
      "cell_type": "markdown",
      "source": [
        "#### Chart - 8 Overall Calls"
      ],
      "metadata": {
        "id": "BZR9WyysphqO"
      }
    },
    {
      "cell_type": "code",
      "source": [
        "# Chart - 8 visualization code\n",
        "#Average of  total day calls, total day minutes, total day charge of churn\n",
        "print(telecom_df.groupby([\"Churn\"])['Total day calls'].mean())\n",
        "print(\" \")\n",
        "print(telecom_df.groupby([\"Churn\"])['Total day minutes'].mean())\n",
        "print(\" \")\n",
        "print(telecom_df.groupby([\"Churn\"])['Total day charge'].mean())\n",
        "\n",
        "# 18% more min    18% more charge    no insight\n"
      ],
      "metadata": {
        "id": "TdPTWpAVphqO"
      },
      "execution_count": null,
      "outputs": []
    },
    {
      "cell_type": "code",
      "source": [
        "# Vizualizing Total day minutes vs total day charge\n",
        "plt.figure(figsize=(7,8))\n",
        "sns.scatterplot(data=telecom_df, x='Total day minutes', y='Total day charge', hue='Churn')\n",
        "plt.title('Total day minutes vs total day charge ',fontsize = 18)\n",
        "plt.xlabel('Total day minutes ', fontsize = 13)\n",
        "plt.ylabel('Total day charge ', fontsize = 13)\n",
        "plt.show()"
      ],
      "metadata": {
        "id": "t9SpRVpoQjEK"
      },
      "execution_count": null,
      "outputs": []
    },
    {
      "cell_type": "code",
      "source": [
        "\n",
        "#visualizing total eve calls, total eve minutes and total eve charge\n",
        "# Assigning values for further charts\n",
        "# name churn as cn\n",
        "cn_ecalls = pd.DataFrame(telecom_df.groupby(['Churn'])['Total eve calls'].mean())\n",
        "print(cn_ecalls)\n",
        "print(\" \")\n",
        "\n",
        "cn_em = pd.DataFrame(telecom_df.groupby(['Churn'])['Total eve minutes'].mean())\n",
        "print(cn_em)\n",
        "print(\" \")\n",
        "\n",
        "cn_ec = pd.DataFrame(telecom_df.groupby(['Churn'])['Total eve charge'].mean())\n",
        "print(cn_ec)\n",
        "print(\" \")\n"
      ],
      "metadata": {
        "id": "PcqrvZm0h35A"
      },
      "execution_count": null,
      "outputs": []
    },
    {
      "cell_type": "code",
      "source": [
        "## Vizualizing total eve minutes vs total eve charge\n",
        "plt.figure(figsize=(7,8))\n",
        "sns.scatterplot(x='Total eve minutes', y='Total eve charge', hue='Churn',data=telecom_df)\n",
        "plt.title('Total eve minutes vs total eve charge ',fontsize = 18)\n",
        "plt.xlabel('Total eve  minutes ', fontsize = 13)\n",
        "plt.ylabel('Total eve charge ', fontsize = 13)\n",
        "plt.show()"
      ],
      "metadata": {
        "id": "XgxZ4Op-lLPi"
      },
      "execution_count": null,
      "outputs": []
    },
    {
      "cell_type": "code",
      "source": [
        "#Average of  total night calls, total night minutes, total night charge of churn\n",
        "# name churn as cn\n",
        "cn_ncalls = pd.DataFrame(telecom_df.groupby(['Churn'])['Total night calls'].mean())\n",
        "print(cn_ncalls)\n",
        "print(\" \")\n",
        "\n",
        "cn_nm = pd.DataFrame(telecom_df.groupby(['Churn'])['Total night minutes'].mean())\n",
        "print(cn_nm)\n",
        "print(\" \")\n",
        "\n",
        "cn_nc = pd.DataFrame(telecom_df.groupby(['Churn'])['Total night charge'].mean())\n",
        "print(cn_nc)\n",
        "print(\" \")"
      ],
      "metadata": {
        "id": "npz-E8AanafM"
      },
      "execution_count": null,
      "outputs": []
    },
    {
      "cell_type": "code",
      "source": [
        "#visualizing total night minutes vs total night charge\n",
        "plt.figure(figsize=(7,8))\n",
        "sns.scatterplot(x='Total night minutes', y='Total night charge', hue='Churn',data=telecom_df)\n",
        "plt.title('Total night minutes vs total night charge ',fontsize = 18)\n",
        "plt.xlabel('Total night  minutes ', fontsize = 13)\n",
        "plt.ylabel('Total night charge ', fontsize = 13)\n",
        "plt.show()\n"
      ],
      "metadata": {
        "id": "IWQdV3U5pMA4"
      },
      "execution_count": null,
      "outputs": []
    },
    {
      "cell_type": "code",
      "source": [
        "import pandas as pd\n",
        "#table of average calls  of total day, eves and night on basis of churn\n",
        "\n",
        "import pandas as pd\n",
        "\n",
        "# Example DataFrames\n",
        "cn_dcalls = pd.DataFrame({'Churn': ['No', 'Yes'], 'Total day calls': [100.28, 1001.34]})\n",
        "cn_ecalls = pd.DataFrame({'Churn': ['No', 'Yes'], 'Total eve calls': [100.04, 100.56]})\n",
        "cn_ncalls = pd.DataFrame({'Churn': ['No', 'Yes'], 'Total night calls': [100.06, 100.40]})\n",
        "\n",
        "# Merging DataFrames\n",
        "cn_calls = pd.merge(pd.merge(cn_dcalls, cn_ecalls, on='Churn'), cn_ncalls, on='Churn').round(2).T\n",
        "\n",
        "# Display the resulting DataFrame\n",
        "print(cn_calls)\n"
      ],
      "metadata": {
        "id": "x9KAeKWpufVu"
      },
      "execution_count": null,
      "outputs": []
    },
    {
      "cell_type": "code",
      "source": [
        "#Bar plot of above tables\n",
        "import seaborn as sns\n",
        "import matplotlib.pyplot as plt\n",
        "# Assuming cn_calls is the DataFrame with average calls on the basis of Churn\n",
        "plt.figure(figsize=(9, 6))\n",
        "sns.barplot(x='Churn', y='Total day calls', data=telecom_df)\n",
        "plt.title('Average of Total Day Calls on the basis of Churn', fontsize=18)\n",
        "plt.xlabel('Churn', fontsize=13)\n",
        "plt.ylabel('Average of Total Day Calls', fontsize=13)\n",
        "plt.show()\n",
        "\n"
      ],
      "metadata": {
        "id": "TwWdgfxnnDlZ"
      },
      "execution_count": null,
      "outputs": []
    },
    {
      "cell_type": "code",
      "source": [
        "#total of verage minutes of total day, eves and night on basis of churn\n",
        "import pandas as pd\n",
        "\n",
        "# Example DataFrames\n",
        "cn_dm = pd.DataFrame({'Churn': ['No', 'Yes'], 'Total day minutes': [175.18, 206.91]})\n",
        "cn_em = pd.DataFrame({'Churn': ['No', 'Yes'], 'Total eve minutes': [199.04, 212.41]})\n",
        "cn_nm = pd.DataFrame({'Churn': ['No', 'Yes'], 'Total night minutes': [200.13, 205.25]})\n",
        "\n",
        "# Merging DataFrames\n",
        "cn_minutes = pd.merge(pd.merge(cn_dm, cn_em, on='Churn'), cn_nm, on='Churn').round(2).T\n",
        "\n",
        "# Display the resulting DataFrame\n",
        "print(cn_minutes)\n"
      ],
      "metadata": {
        "id": "xo9kFIYJTz8g"
      },
      "execution_count": null,
      "outputs": []
    },
    {
      "cell_type": "code",
      "source": [
        "#bar plots above tables\n",
        "plt.figure(figsize=(7,8))\n",
        "sns.barplot(x='Churn', y='Total day minutes', data=telecom_df)\n",
        "plt.title('Average of minutes on the basis of Churn ',fontsize = 18)\n",
        "plt.xlabel('minutes ', fontsize = 13)\n",
        "plt.ylabel('Average of minutes ', fontsize = 13)\n",
        "plt.show()"
      ],
      "metadata": {
        "id": "UY00U1JDXQ-o"
      },
      "execution_count": null,
      "outputs": []
    },
    {
      "cell_type": "markdown",
      "source": [
        "##### 1. Why did you pick the specific chart?"
      ],
      "metadata": {
        "id": "jj7wYXLtphqO"
      }
    },
    {
      "cell_type": "markdown",
      "source": [
        "A scatter plot (aka scatter chart, scatter graph) uses dots to represent values for two different numeric variables. The position of each dot on the horizontal and vertical axis indicates values for an individual data point. Scatter plots are used to observe relationships between variables.\n",
        "\n",
        "Thus, I have used the scatter plot to depict the relationship between evening, day &n night calls , minutes and charge.\n",
        "\n",
        "The bar graph is used to compare the items between different groups over time. Bar graphs are used to measure the changes over a period of time. When the changes are larger, a bar graph is the best option to represent the data.\n",
        "\n",
        "Thus, I have used the bar plot to show the evening, night and day manipulated data to depict meaningful insights.-"
      ],
      "metadata": {
        "id": "Ob8u6rCTphqO"
      }
    },
    {
      "cell_type": "markdown",
      "source": [
        "##### 2. What is/are the insight(s) found from the chart?"
      ],
      "metadata": {
        "id": "eZrbJ2SmphqO"
      }
    },
    {
      "cell_type": "markdown",
      "source": [
        "OVERALL CALLS\n",
        "\n",
        "Churn customers speak more minutes that non-churn customers at day,evening and night. Hence they pay more charge that non-churn customers.\n",
        "\n",
        "We can retain churn customers if we include master plan. In master plan if a customer is talking more minutes then we can charge a little less amount from him or he can get discount or additional few free minutes to talk.\n",
        "\n",
        "This will make customers who are going to churn happy and they will not leave the company."
      ],
      "metadata": {
        "id": "mZtgC_hjphqO"
      }
    },
    {
      "cell_type": "markdown",
      "source": [
        "##### 3. Will the gained insights help creating a positive business impact?\n",
        "Are there any insights that lead to negative growth? Justify with specific reason."
      ],
      "metadata": {
        "id": "rFu4xreNphqO"
      }
    },
    {
      "cell_type": "markdown",
      "source": [
        "For telecom service provider calling and messaging are two essential product plans. Thus, optimizing voice call plans will definitely create a business impact. Those who are using just calling service must be provided som additional offers either in talktime or powerplus plan. Those who use voice call plan for night only, we might offer some exciting plans from midnight 12 to morning 6. For customers those who have higher accout length should be provided exciting offers as they are our loyal customers. churing of higher account length customer will have a negative impact on business."
      ],
      "metadata": {
        "id": "ey_0qi68phqO"
      }
    },
    {
      "cell_type": "markdown",
      "source": [
        "#### Chart - 9 Customer service calls"
      ],
      "metadata": {
        "id": "YJ55k-q6phqO"
      }
    },
    {
      "cell_type": "code",
      "source": [
        "# Chart - 9 visualization code\n",
        "# Visualizing churn rate per customer service calls\n",
        "import matplotlib.pyplot as plt\n",
        "import seaborn as sns\n",
        "\n",
        "# Assuming 'telecom_df' DataFrame is already defined\n",
        "\n",
        "# Group by 'Customer service calls' and calculate mean of 'Churn'\n",
        "churn_rate = telecom_df.groupby(['Customer service calls'])['Churn'].mean() * 100\n",
        "\n",
        "# Plotting\n",
        "plt.figure(figsize=(12, 9))\n",
        "sns.barplot(x=churn_rate.index, y=churn_rate.values)\n",
        "\n",
        "# Adding annotations\n",
        "for i, value in enumerate(churn_rate.values):\n",
        "    plt.text(i, value, f'{value:.2f}', ha='center', va='bottom', fontsize=12)\n",
        "\n",
        "# Adding title and labels\n",
        "plt.title(\"Churn rate percentage service calls\", fontsize=20)\n",
        "plt.xlabel('No of customer service calls', fontsize=15)\n",
        "plt.ylabel('percentage (%)', fontsize=15)\n",
        "\n",
        "# Show the plot\n",
        "plt.show()\n"
      ],
      "metadata": {
        "id": "B2aS4O1ophqO"
      },
      "execution_count": null,
      "outputs": []
    },
    {
      "cell_type": "markdown",
      "source": [
        "##### 1. Why did you pick the specific chart?"
      ],
      "metadata": {
        "id": "gCFgpxoyphqP"
      }
    },
    {
      "cell_type": "markdown",
      "source": [
        "The bar graph is used to compare the items between different groups over time. Bar graphs are used to measure the changes over a period of time. When the changes are larger, a bar graph is the best option to represent the data.\n",
        "\n",
        "Thus, I have used the bar plot to show the relationship between churn rate per customer service calls."
      ],
      "metadata": {
        "id": "TVxDimi2phqP"
      }
    },
    {
      "cell_type": "markdown",
      "source": [
        "##### 2. What is/are the insight(s) found from the chart?"
      ],
      "metadata": {
        "id": "OVtJsKN_phqQ"
      }
    },
    {
      "cell_type": "markdown",
      "source": [
        "CUSTOMER SERVICE CALL\n",
        "\n",
        "The service calls of customers varies from 0 to 9 .\n",
        "\n",
        "Those customers who make more service calls they have a high probability of leaving.\n",
        "\n",
        "As we can see from graph , customers with more then 5 service calls their probability of leaving is more then 50 %.\n",
        "\n",
        "Hence customers who make more then 5 service calls, their queries should be solved immediately and they should be given better service so that they dont leave the company.\n",
        "\n",
        "Customers with four or more customer service calls churn more than four times as often as do the other customers"
      ],
      "metadata": {
        "id": "ngGi97qjphqQ"
      }
    },
    {
      "cell_type": "markdown",
      "source": [
        "##### 3. Will the gained insights help creating a positive business impact?\n",
        "Are there any insights that lead to negative growth? Justify with specific reason."
      ],
      "metadata": {
        "id": "lssrdh5qphqQ"
      }
    },
    {
      "cell_type": "markdown",
      "source": [
        "Customer service is an essential factor for every business. SO definitely good customer service will have a positive impact to the business. We have to look afted the customer calls and customer query report resolution duration. Need to optimize the time period. If one type of issue is coming from more than 5 customers, root cause analysis should be done on that same issue and should be resolved for everyone. Need to reduce the calls for each customer and he should be satisfied in a single call only. The customer service agents should be given great offer or recognition over great performance of customer issue resolution."
      ],
      "metadata": {
        "id": "tBpY5ekJphqQ"
      }
    },
    {
      "cell_type": "markdown",
      "source": [
        "Chart - 10 - Column wise Histogram & Box Plot Univariate Analysis"
      ],
      "metadata": {
        "id": "Yrk3Zh3NB7mx"
      }
    },
    {
      "cell_type": "code",
      "source": [
        "# Visualizing code of hist plot for each columns to know the data distibution\n",
        "import matplotlib.pyplot as plt\n",
        "import seaborn as sns\n",
        "import pandas as pd\n",
        "\n",
        "# Visualizing code of hist plot for each column to know the data distribution\n",
        "for col in telecom_df.describe().columns:\n",
        "  fig=plt.figure(figsize=(9,6))\n",
        "  ax=fig.gca()\n",
        "  feature= (telecom_df[col])\n",
        "  sns.histplot(feature, bins=20, kde=True)\n",
        "  ax.axvline(feature.mean(),color='magenta', linestyle='dashed', linewidth=2)\n",
        "  ax.axvline(feature.median(),color='cyan', linestyle='dashed', linewidth=2)\n",
        "  ax.set_title(col)\n",
        "plt.show()\n",
        "\n",
        "  # Assuming 'col' is a categorical column in 'telecom_df'\n",
        "  # Replace 'col' with the actual column you want to plot\n",
        "\n",
        "\n",
        "\n",
        "# Visualizing code of box plot for each columns to know the data distibution\n",
        "for col in telecom_df.describe().columns:\n",
        "    fig = plt.figure(figsize=(9, 6))\n",
        "    ax = fig.gca()\n",
        "    telecom_df.boxplot( col, ax = ax)\n",
        "    ax.set_title('Label by ' + col)\n",
        "    #ax.set_ylabel(\"Churn\")\n",
        "plt.show()\n",
        "\n",
        "\n",
        "\n"
      ],
      "metadata": {
        "id": "jy728Y7Kj1_J"
      },
      "execution_count": null,
      "outputs": []
    },
    {
      "cell_type": "markdown",
      "source": [
        "1.Why did you pick the specific chart?"
      ],
      "metadata": {
        "id": "dOE_My4kEG9I"
      }
    },
    {
      "cell_type": "markdown",
      "source": [
        "\n",
        "The histogram is a popular graphing tool. It is used to summarize discrete or continuous data that are measured on an interval scale. It is often used to illustrate the major features of the distribution of the data in a convenient form. It is also useful when dealing with large data sets (greater than 100 observations). It can help detect any unusual observations (outliers) or any gaps in the data.\n",
        "\n",
        "Thus, I used the histogram plot to analysis the variable distributions over the whole dataset whether it's symmetric or not.\n",
        "\n",
        "Box plots are used to show distributions of numeric data values, especially when you want to compare them between multiple groups. They are built to provide high-level information at a glance, offering general information about a group of data's symmetry, skew, variance, and outliers.\n",
        "\n",
        "Thus, for each numerical varibale in the given dataset, I used box plot to analyse the outliers and interquartile range including mean, median, maximum and minimum value."
      ],
      "metadata": {
        "id": "2CeUOBauD8wv"
      }
    },
    {
      "cell_type": "markdown",
      "source": [
        "2. What is/are the insight(s) found from the chart?"
      ],
      "metadata": {
        "id": "R4PE3aWZEQt1"
      }
    },
    {
      "cell_type": "markdown",
      "source": [
        "Almost all columns are symmetric distributed and mean is nearly same with median for numerical columns. Here Area code will be treated as text values as there are only 3 values in the particular column."
      ],
      "metadata": {
        "id": "EHIRQJ-4EYrM"
      }
    },
    {
      "cell_type": "markdown",
      "source": [
        "3. Will the gained insights help creating a positive business impact?"
      ],
      "metadata": {
        "id": "VuUk2Sy3Ef8N"
      }
    },
    {
      "cell_type": "markdown",
      "source": [
        " Are there any insights that lead to negative growth? Justify with specific reason."
      ],
      "metadata": {
        "id": "1w2CfPk5EmMl"
      }
    },
    {
      "cell_type": "markdown",
      "source": [
        "Just a histogram and box plot cannot define business impact. It's done just to see the distribution of the column data over the dataset.\n",
        "\n"
      ],
      "metadata": {
        "id": "ncUQqP2aEx5N"
      }
    },
    {
      "cell_type": "markdown",
      "source": [
        "#### Chart - 11 Correlation Heatmap"
      ],
      "metadata": {
        "id": "U2RJ9gkRphqQ"
      }
    },
    {
      "cell_type": "code",
      "source": [
        "# Chart - 11 Correlation Heatmap visualization code\n",
        "import numpy as np\n",
        "import seaborn as sns\n",
        "import matplotlib.pyplot as plt\n",
        "\n",
        "corr = telecom_df.corr()\n",
        "cmap = np.zeros_like(corr)\n",
        "\n",
        "cmap[np.triu_indices_from(cmap)] = False\n",
        "with sns.axes_style('white'):\n",
        "    f, ax = plt.subplots(figsize=(18, 12))\n",
        "    ax = sns.heatmap(corr, cmap='YlGnBu', vmin=-1, vmax=1, annot=True)\n",
        "\n",
        "plt.show()\n"
      ],
      "metadata": {
        "id": "GM7a4YP4phqQ"
      },
      "execution_count": null,
      "outputs": []
    },
    {
      "cell_type": "markdown",
      "source": [
        "##### 1. Why did you pick the specific chart?"
      ],
      "metadata": {
        "id": "1M8mcRywphqQ"
      }
    },
    {
      "cell_type": "markdown",
      "source": [
        "A correlation matrix is a table showing correlation coefficients between variables. Each cell in the table shows the correlation between two variables. A correlation matrix is used to summarize data, as an input into a more advanced analysis, and as a diagnostic for advanced analyses. The range of correlation is [-1,1].\n",
        "\n",
        "Thus to know the correlation between all the variables along with the correlation coeficients, i used correlation heatmap."
      ],
      "metadata": {
        "id": "8agQvks0phqQ"
      }
    },
    {
      "cell_type": "markdown",
      "source": [
        "##### 2. What is/are the insight(s) found from the chart?"
      ],
      "metadata": {
        "id": "tgIPom80phqQ"
      }
    },
    {
      "cell_type": "markdown",
      "source": [
        "From the above correlation heatmap, we can see total day charge & total day minute, total evening charge & total evening minute, total night charge & total night minute are positiveliy highly correlated with a value of 1.\n",
        "\n",
        "Customer service call is positively correlated only with area code and negative correlated with rest variables.\n",
        "\n",
        "Rest all correlation can be depicted from the above chart."
      ],
      "metadata": {
        "id": "Qp13pnNzphqQ"
      }
    },
    {
      "cell_type": "markdown",
      "source": [
        "##### 3. Will the gained insights help creating a positive business impact?\n",
        "Are there any insights that lead to negative growth? Justify with specific reason."
      ],
      "metadata": {
        "id": "JMzcOPDDphqR"
      }
    },
    {
      "cell_type": "markdown",
      "source": [
        " If the value is +1 or close to it then we say the variables are positively correlated. And they vary in the same direction simultaneously. -> If the value is -1 or close to it then we say the variables are negatively correlated. And they vary in the opposite direction simultaneously."
      ],
      "metadata": {
        "id": "R4Ka1PC2phqR"
      }
    },
    {
      "cell_type": "markdown",
      "source": [
        "#### Chart - 12- Pair Plot"
      ],
      "metadata": {
        "id": "q29F0dvdveiT"
      }
    },
    {
      "cell_type": "code",
      "source": [
        "# Pair Plot visualization code\n",
        "# Pair Plot visualization code\n",
        "sns.pairplot(telecom_df, hue=\"Churn\")"
      ],
      "metadata": {
        "id": "o58-TEIhveiU"
      },
      "execution_count": null,
      "outputs": []
    },
    {
      "cell_type": "markdown",
      "source": [
        "##### 1. Why did you pick the specific chart?"
      ],
      "metadata": {
        "id": "EXh0U9oCveiU"
      }
    },
    {
      "cell_type": "markdown",
      "source": [
        "Pair plot is used to understand the best set of features to explain a relationship between two variables or to form the most separated clusters. It also helps to form some simple classification models by drawing some simple lines or make linear separation in our data-set.\n",
        "\n",
        "Thus, I used pair plot to analyse the patterns of data and realationship between the features. It's exactly same as the correlation map but here you will get the graphical representation.\n",
        "\n"
      ],
      "metadata": {
        "id": "eMmPjTByveiU"
      }
    },
    {
      "cell_type": "markdown",
      "source": [
        "##### 2. What is/are the insight(s) found from the chart?"
      ],
      "metadata": {
        "id": "22aHeOlLveiV"
      }
    },
    {
      "cell_type": "markdown",
      "source": [
        "From the above chart I got to know, there are less linear relationship between variables and data poiunts aren't linearly separable. Churned customers data is clusetered and ovearlapped each other. Non churn data are quite symmetrical in nature and churned customer data are quite non symmetric in nature. In this whole pair plot, the importance of area code can be seen and the number of churn with respect to different features are really insightful. Rest insights can be depicted from the above graph."
      ],
      "metadata": {
        "id": "uPQ8RGwHveiV"
      }
    },
    {
      "cell_type": "markdown",
      "source": [
        "## **5. Solution to Business Objective**"
      ],
      "metadata": {
        "id": "JcMwzZxoAimU"
      }
    },
    {
      "cell_type": "markdown",
      "source": [
        "#### What do you suggest the client to achieve Business Objective ?\n",
        "Explain Briefly."
      ],
      "metadata": {
        "id": "8G2x9gOozGDZ"
      }
    },
    {
      "cell_type": "markdown",
      "source": [
        "Solution to Reduce Customer Churn\n",
        "\n",
        "*Modify International Plan as the charge is same as normal one.\n",
        "\n",
        "*Be proactive with communication.\n",
        "\n",
        "*Ask for feedback often.\n",
        "\n",
        "*Periodically throw Offers to retain customers.\n",
        "\n",
        "*Look at the customers facing problem in the most churning states.\n",
        "\n",
        "*Lean into best customers.\n",
        "\n",
        "*Regular Server Maintenance.\n",
        "\n",
        "*Solving Poor Network Connectivity Issue.\n",
        "\n",
        "*Define a roadmap for new customers.\n",
        "\n",
        "*Analyze churn when it happens.\n",
        "\n",
        "*Stay competitive."
      ],
      "metadata": {
        "id": "pASKb0qOza21"
      }
    },
    {
      "cell_type": "markdown",
      "source": [
        "# **Conclusion**"
      ],
      "metadata": {
        "id": "gCX9965dhzqZ"
      }
    },
    {
      "cell_type": "markdown",
      "source": [
        ".The four charge fields are linear functions of the minute fields.\n",
        "\n",
        "• The area code field and/or the state field are anomalous, and can be omitted.\n",
        "\n",
        "• Customers with the International Plan tend to churn more frequently.\n",
        "\n",
        "• Customers with four or more customer service calls churn more than four times as often as do the other customers.\n",
        "\n",
        "• Customers with high day minutes and evening minutes tend to churn at a higher rate than do the other customers.\n",
        "\n",
        "• There is no obvious association of churn with the variables day calls, evening calls, night calls, international calls, night minutes, international minutes, account length, or voice mail messages.\n",
        "\n",
        "\n",
        "\n",
        "\n",
        "\n"
      ],
      "metadata": {
        "id": "Fjb1IsQkh3yE"
      }
    },
    {
      "cell_type": "markdown",
      "source": [
        "### ***Hurrah! You have successfully completed your EDA Capstone Project !!!***"
      ],
      "metadata": {
        "id": "gIfDvo9L0UH2"
      }
    }
  ]
}